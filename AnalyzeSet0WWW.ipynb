{
 "cells": [
  {
   "cell_type": "code",
   "execution_count": 48,
   "id": "5469ab4e-fdf9-4eaf-98d8-9c68dea3f4da",
   "metadata": {},
   "outputs": [],
   "source": [
    "import pandas as pd\n",
    "import numpy as np\n",
    "import matplotlib.pyplot as plt\n",
    "import seaborn as sns"
   ]
  },
  {
   "cell_type": "code",
   "execution_count": 39,
   "id": "204917e1-f479-4c51-b9a0-5b8fc0d0d83b",
   "metadata": {},
   "outputs": [
    {
     "data": {
      "text/html": [
       "<div>\n",
       "<style scoped>\n",
       "    .dataframe tbody tr th:only-of-type {\n",
       "        vertical-align: middle;\n",
       "    }\n",
       "\n",
       "    .dataframe tbody tr th {\n",
       "        vertical-align: top;\n",
       "    }\n",
       "\n",
       "    .dataframe thead th {\n",
       "        text-align: right;\n",
       "    }\n",
       "</style>\n",
       "<table border=\"1\" class=\"dataframe\">\n",
       "  <thead>\n",
       "    <tr style=\"text-align: right;\">\n",
       "      <th></th>\n",
       "      <th>vhost</th>\n",
       "      <th>clientip</th>\n",
       "      <th>ident</th>\n",
       "      <th>auth</th>\n",
       "      <th>timestamp</th>\n",
       "      <th>verb</th>\n",
       "      <th>request</th>\n",
       "      <th>httpversion</th>\n",
       "      <th>response</th>\n",
       "      <th>bytes</th>\n",
       "      <th>referrer</th>\n",
       "      <th>agent</th>\n",
       "      <th>dt</th>\n",
       "      <th>setnum</th>\n",
       "    </tr>\n",
       "  </thead>\n",
       "  <tbody>\n",
       "    <tr>\n",
       "      <th>0</th>\n",
       "      <td>petitechevre.jp</td>\n",
       "      <td>66.249.66.76</td>\n",
       "      <td>-</td>\n",
       "      <td>-</td>\n",
       "      <td>02/Dec/2024:04:03:56 +0900</td>\n",
       "      <td>GET</td>\n",
       "      <td>/SHOP/200665/227849/list.html</td>\n",
       "      <td>1.1</td>\n",
       "      <td>200</td>\n",
       "      <td>50119</td>\n",
       "      <td>-</td>\n",
       "      <td>Mozilla/5.0 (Linux; Android 6.0.1; Nexus 5X Bu...</td>\n",
       "      <td>1202</td>\n",
       "      <td>4</td>\n",
       "    </tr>\n",
       "    <tr>\n",
       "      <th>1</th>\n",
       "      <td>petitechevre.jp</td>\n",
       "      <td>106.131.237.177</td>\n",
       "      <td>-</td>\n",
       "      <td>-</td>\n",
       "      <td>02/Dec/2024:04:18:41 +0900</td>\n",
       "      <td>GET</td>\n",
       "      <td>/favicon.ico</td>\n",
       "      <td>1.1</td>\n",
       "      <td>404</td>\n",
       "      <td>196</td>\n",
       "      <td>https://websearch.rakuten.co.jp/</td>\n",
       "      <td>Mozilla/5.0 (Linux; Android 12; SCV48 Build/SP...</td>\n",
       "      <td>1202</td>\n",
       "      <td>4</td>\n",
       "    </tr>\n",
       "    <tr>\n",
       "      <th>2</th>\n",
       "      <td>petitechevre.jp</td>\n",
       "      <td>60.61.205.191</td>\n",
       "      <td>-</td>\n",
       "      <td>-</td>\n",
       "      <td>02/Dec/2024:04:20:47 +0900</td>\n",
       "      <td>GET</td>\n",
       "      <td>/hpgen/HPB/theme/css/slick.css</td>\n",
       "      <td>1.1</td>\n",
       "      <td>200</td>\n",
       "      <td>1819</td>\n",
       "      <td>https://petitechevre.jp/SHOP/item-2021-00113.html</td>\n",
       "      <td>Mozilla/5.0 (iPhone; CPU iPhone OS 18_1_1 like...</td>\n",
       "      <td>1202</td>\n",
       "      <td>4</td>\n",
       "    </tr>\n",
       "    <tr>\n",
       "      <th>3</th>\n",
       "      <td>petitechevre.jp</td>\n",
       "      <td>60.61.205.191</td>\n",
       "      <td>-</td>\n",
       "      <td>-</td>\n",
       "      <td>02/Dec/2024:04:20:47 +0900</td>\n",
       "      <td>GET</td>\n",
       "      <td>/SHOP/js/jquery-ui-1.10.3.min.js</td>\n",
       "      <td>1.1</td>\n",
       "      <td>200</td>\n",
       "      <td>228138</td>\n",
       "      <td>https://petitechevre.jp/SHOP/item-2021-00113.html</td>\n",
       "      <td>Mozilla/5.0 (iPhone; CPU iPhone OS 18_1_1 like...</td>\n",
       "      <td>1202</td>\n",
       "      <td>4</td>\n",
       "    </tr>\n",
       "    <tr>\n",
       "      <th>4</th>\n",
       "      <td>petitechevre.jp</td>\n",
       "      <td>60.61.205.191</td>\n",
       "      <td>-</td>\n",
       "      <td>-</td>\n",
       "      <td>02/Dec/2024:04:20:47 +0900</td>\n",
       "      <td>GET</td>\n",
       "      <td>/pic-labo/mimg/header_logo_sp.png</td>\n",
       "      <td>1.1</td>\n",
       "      <td>200</td>\n",
       "      <td>2985</td>\n",
       "      <td>https://petitechevre.jp/SHOP/item-2021-00113.html</td>\n",
       "      <td>Mozilla/5.0 (iPhone; CPU iPhone OS 18_1_1 like...</td>\n",
       "      <td>1202</td>\n",
       "      <td>4</td>\n",
       "    </tr>\n",
       "    <tr>\n",
       "      <th>5</th>\n",
       "      <td>petitechevre.jp</td>\n",
       "      <td>60.61.205.191</td>\n",
       "      <td>-</td>\n",
       "      <td>-</td>\n",
       "      <td>02/Dec/2024:04:20:47 +0900</td>\n",
       "      <td>GET</td>\n",
       "      <td>/pic-labo/cart.png</td>\n",
       "      <td>1.1</td>\n",
       "      <td>200</td>\n",
       "      <td>906</td>\n",
       "      <td>https://petitechevre.jp/SHOP/item-2021-00113.html</td>\n",
       "      <td>Mozilla/5.0 (iPhone; CPU iPhone OS 18_1_1 like...</td>\n",
       "      <td>1202</td>\n",
       "      <td>4</td>\n",
       "    </tr>\n",
       "    <tr>\n",
       "      <th>6</th>\n",
       "      <td>petitechevre.jp</td>\n",
       "      <td>60.61.205.191</td>\n",
       "      <td>-</td>\n",
       "      <td>-</td>\n",
       "      <td>02/Dec/2024:04:20:47 +0900</td>\n",
       "      <td>GET</td>\n",
       "      <td>/pic-labo/timg/X_logo.png</td>\n",
       "      <td>1.1</td>\n",
       "      <td>200</td>\n",
       "      <td>1273</td>\n",
       "      <td>https://petitechevre.jp/SHOP/item-2021-00113.html</td>\n",
       "      <td>Mozilla/5.0 (iPhone; CPU iPhone OS 18_1_1 like...</td>\n",
       "      <td>1202</td>\n",
       "      <td>4</td>\n",
       "    </tr>\n",
       "    <tr>\n",
       "      <th>7</th>\n",
       "      <td>petitechevre.jp</td>\n",
       "      <td>60.61.205.191</td>\n",
       "      <td>-</td>\n",
       "      <td>-</td>\n",
       "      <td>02/Dec/2024:04:20:48 +0900</td>\n",
       "      <td>GET</td>\n",
       "      <td>/SHOP/img/thum_prev.png</td>\n",
       "      <td>1.1</td>\n",
       "      <td>200</td>\n",
       "      <td>43587</td>\n",
       "      <td>https://petitechevre.jp/SHOP/item-2021-00113.html</td>\n",
       "      <td>Mozilla/5.0 (iPhone; CPU iPhone OS 18_1_1 like...</td>\n",
       "      <td>1202</td>\n",
       "      <td>4</td>\n",
       "    </tr>\n",
       "    <tr>\n",
       "      <th>8</th>\n",
       "      <td>petitechevre.jp</td>\n",
       "      <td>60.61.205.191</td>\n",
       "      <td>-</td>\n",
       "      <td>-</td>\n",
       "      <td>02/Dec/2024:04:20:48 +0900</td>\n",
       "      <td>GET</td>\n",
       "      <td>/hpgen/HPB/theme/img/icon_new.png</td>\n",
       "      <td>1.1</td>\n",
       "      <td>200</td>\n",
       "      <td>1257</td>\n",
       "      <td>https://petitechevre.jp/SHOP/item-2021-00113.html</td>\n",
       "      <td>Mozilla/5.0 (iPhone; CPU iPhone OS 18_1_1 like...</td>\n",
       "      <td>1202</td>\n",
       "      <td>4</td>\n",
       "    </tr>\n",
       "    <tr>\n",
       "      <th>9</th>\n",
       "      <td>petitechevre.jp</td>\n",
       "      <td>60.61.205.191</td>\n",
       "      <td>-</td>\n",
       "      <td>-</td>\n",
       "      <td>02/Dec/2024:04:20:48 +0900</td>\n",
       "      <td>GET</td>\n",
       "      <td>/SHOP/img/responsive1/icon_freeze.gif</td>\n",
       "      <td>1.1</td>\n",
       "      <td>200</td>\n",
       "      <td>619</td>\n",
       "      <td>https://petitechevre.jp/SHOP/item-2021-00113.html</td>\n",
       "      <td>Mozilla/5.0 (iPhone; CPU iPhone OS 18_1_1 like...</td>\n",
       "      <td>1202</td>\n",
       "      <td>4</td>\n",
       "    </tr>\n",
       "  </tbody>\n",
       "</table>\n",
       "</div>"
      ],
      "text/plain": [
       "             vhost         clientip ident auth                   timestamp  \\\n",
       "0  petitechevre.jp     66.249.66.76     -    -  02/Dec/2024:04:03:56 +0900   \n",
       "1  petitechevre.jp  106.131.237.177     -    -  02/Dec/2024:04:18:41 +0900   \n",
       "2  petitechevre.jp    60.61.205.191     -    -  02/Dec/2024:04:20:47 +0900   \n",
       "3  petitechevre.jp    60.61.205.191     -    -  02/Dec/2024:04:20:47 +0900   \n",
       "4  petitechevre.jp    60.61.205.191     -    -  02/Dec/2024:04:20:47 +0900   \n",
       "5  petitechevre.jp    60.61.205.191     -    -  02/Dec/2024:04:20:47 +0900   \n",
       "6  petitechevre.jp    60.61.205.191     -    -  02/Dec/2024:04:20:47 +0900   \n",
       "7  petitechevre.jp    60.61.205.191     -    -  02/Dec/2024:04:20:48 +0900   \n",
       "8  petitechevre.jp    60.61.205.191     -    -  02/Dec/2024:04:20:48 +0900   \n",
       "9  petitechevre.jp    60.61.205.191     -    -  02/Dec/2024:04:20:48 +0900   \n",
       "\n",
       "  verb                                request  httpversion  response   bytes  \\\n",
       "0  GET          /SHOP/200665/227849/list.html          1.1       200   50119   \n",
       "1  GET                           /favicon.ico          1.1       404     196   \n",
       "2  GET         /hpgen/HPB/theme/css/slick.css          1.1       200    1819   \n",
       "3  GET       /SHOP/js/jquery-ui-1.10.3.min.js          1.1       200  228138   \n",
       "4  GET      /pic-labo/mimg/header_logo_sp.png          1.1       200    2985   \n",
       "5  GET                     /pic-labo/cart.png          1.1       200     906   \n",
       "6  GET              /pic-labo/timg/X_logo.png          1.1       200    1273   \n",
       "7  GET                /SHOP/img/thum_prev.png          1.1       200   43587   \n",
       "8  GET      /hpgen/HPB/theme/img/icon_new.png          1.1       200    1257   \n",
       "9  GET  /SHOP/img/responsive1/icon_freeze.gif          1.1       200     619   \n",
       "\n",
       "                                            referrer  \\\n",
       "0                                                  -   \n",
       "1                   https://websearch.rakuten.co.jp/   \n",
       "2  https://petitechevre.jp/SHOP/item-2021-00113.html   \n",
       "3  https://petitechevre.jp/SHOP/item-2021-00113.html   \n",
       "4  https://petitechevre.jp/SHOP/item-2021-00113.html   \n",
       "5  https://petitechevre.jp/SHOP/item-2021-00113.html   \n",
       "6  https://petitechevre.jp/SHOP/item-2021-00113.html   \n",
       "7  https://petitechevre.jp/SHOP/item-2021-00113.html   \n",
       "8  https://petitechevre.jp/SHOP/item-2021-00113.html   \n",
       "9  https://petitechevre.jp/SHOP/item-2021-00113.html   \n",
       "\n",
       "                                               agent    dt  setnum  \n",
       "0  Mozilla/5.0 (Linux; Android 6.0.1; Nexus 5X Bu...  1202       4  \n",
       "1  Mozilla/5.0 (Linux; Android 12; SCV48 Build/SP...  1202       4  \n",
       "2  Mozilla/5.0 (iPhone; CPU iPhone OS 18_1_1 like...  1202       4  \n",
       "3  Mozilla/5.0 (iPhone; CPU iPhone OS 18_1_1 like...  1202       4  \n",
       "4  Mozilla/5.0 (iPhone; CPU iPhone OS 18_1_1 like...  1202       4  \n",
       "5  Mozilla/5.0 (iPhone; CPU iPhone OS 18_1_1 like...  1202       4  \n",
       "6  Mozilla/5.0 (iPhone; CPU iPhone OS 18_1_1 like...  1202       4  \n",
       "7  Mozilla/5.0 (iPhone; CPU iPhone OS 18_1_1 like...  1202       4  \n",
       "8  Mozilla/5.0 (iPhone; CPU iPhone OS 18_1_1 like...  1202       4  \n",
       "9  Mozilla/5.0 (iPhone; CPU iPhone OS 18_1_1 like...  1202       4  "
      ]
     },
     "execution_count": 39,
     "metadata": {},
     "output_type": "execute_result"
    }
   ],
   "source": [
    "filename=\"petitechevre_1201_1209.csv\"\n",
    "df = pd.read_csv(filename)\n",
    "df.head(10)"
   ]
  },
  {
   "cell_type": "code",
   "execution_count": 41,
   "id": "84084388-c332-4ebd-bb61-6c48b5e4382a",
   "metadata": {},
   "outputs": [],
   "source": [
    "df['timestamp'] = df['timestamp'].str.replace('2024:', '2024 ').apply(lambda x: pd.to_datetime(x))"
   ]
  },
  {
   "cell_type": "code",
   "execution_count": 26,
   "id": "74177bc8-6d5a-4ac0-8213-e66b97dc6923",
   "metadata": {},
   "outputs": [
    {
     "name": "stdout",
     "output_type": "stream",
     "text": [
      "<class 'pandas.core.frame.DataFrame'>\n",
      "RangeIndex: 252945 entries, 0 to 252944\n",
      "Data columns (total 14 columns):\n",
      " #   Column       Non-Null Count   Dtype  \n",
      "---  ------       --------------   -----  \n",
      " 0   vhost        252945 non-null  object \n",
      " 1   clientip     252945 non-null  object \n",
      " 2   ident        252945 non-null  object \n",
      " 3   auth         252945 non-null  object \n",
      " 4   timestamp    252945 non-null  object \n",
      " 5   verb         252945 non-null  object \n",
      " 6   request      252945 non-null  object \n",
      " 7   httpversion  252945 non-null  float64\n",
      " 8   response     252945 non-null  int64  \n",
      " 9   bytes        252945 non-null  object \n",
      " 10  referrer     252940 non-null  object \n",
      " 11  agent        252945 non-null  object \n",
      " 12  dt           252945 non-null  int64  \n",
      " 13  setnum       252945 non-null  int64  \n",
      "dtypes: float64(1), int64(3), object(10)\n",
      "memory usage: 27.0+ MB\n"
     ]
    }
   ],
   "source": [
    "df.info()"
   ]
  },
  {
   "cell_type": "markdown",
   "id": "5251106c-5c32-401b-a89c-13919deddc1b",
   "metadata": {},
   "source": [
    "### Questions\n",
    "1. Graph of requests daily\n",
    "2. Requests from bot daily graph\n",
    "3. Top 10 clientip\n",
    "4. Top 10 request site\n",
    "5. Not 200 responses graph daily\n",
    "6. Requests hourly graph for one ip\n",
    "7. Requests from bot daily graph"
   ]
  },
  {
   "cell_type": "code",
   "execution_count": 56,
   "id": "bec7d998-b49f-4305-9cc4-cefaac8ab922",
   "metadata": {},
   "outputs": [
    {
     "data": {
      "text/plain": [
       "<Axes: xlabel='day', ylabel='request'>"
      ]
     },
     "execution_count": 56,
     "metadata": {},
     "output_type": "execute_result"
    },
    {
     "data": {
      "image/png": "[encoded data removed]",
      "text/plain": [
       "<Figure size 640x480 with 1 Axes>"
      ]
     },
     "metadata": {},
     "output_type": "display_data"
    }
   ],
   "source": [
    "# 1. Graph of requests daily\n",
    "df['day'] = pd.DatetimeIndex(df['timestamp']).day\n",
    "# df[['day','request']].groupby('day').count()\n",
    "sns.barplot(df[['day','request']].groupby('day').count(), x=\"day\", y=\"request\", errorbar=None)"
   ]
  },
  {
   "cell_type": "code",
   "execution_count": 60,
   "id": "745d2652-3072-452b-8cfc-0c519de9b192",
   "metadata": {},
   "outputs": [
    {
     "data": {
      "text/plain": [
       "<Axes: xlabel='day', ylabel='request'>"
      ]
     },
     "execution_count": 60,
     "metadata": {},
     "output_type": "execute_result"
    },
    {
     "data": {
      "image/png": "[encoded data removed]",
      "text/plain": [
       "<Figure size 640x480 with 1 Axes>"
      ]
     },
     "metadata": {},
     "output_type": "display_data"
    }
   ],
   "source": [
    "# 2. Requests from bot daily graph\n",
    "df2 = df[(df['agent'].str.contains(\"bot\"))]\n",
    "sns.barplot(df2[['day','request']].groupby('day').count(), x=\"day\", y=\"request\", errorbar=None)"
   ]
  },
  {
   "cell_type": "code",
   "execution_count": 66,
   "id": "98a5a449-0c40-462e-a7f3-4e5c8bd1da92",
   "metadata": {},
   "outputs": [
    {
     "data": {
      "text/plain": [
       "clientip\n",
       "115.65.20.119       731\n",
       "111.109.66.59       747\n",
       "126.88.181.11       795\n",
       "221.118.87.67       809\n",
       "118.104.85.202      832\n",
       "101.142.232.21      856\n",
       "219.106.244.122     927\n",
       "124.45.158.138      941\n",
       "114.164.246.154    1095\n",
       "153.170.37.4       1644\n",
       "Name: request, dtype: int64"
      ]
     },
     "execution_count": 66,
     "metadata": {},
     "output_type": "execute_result"
    }
   ],
   "source": [
    "# 3. Top 10 clientip and line graph of request per day\n",
    "df.groupby('clientip').count()['request'].sort_values().tail(10)"
   ]
  },
  {
   "cell_type": "code",
   "execution_count": null,
   "id": "5aa28030-e637-4252-a9ca-9f9d414d532c",
   "metadata": {},
   "outputs": [],
   "source": []
  }
 ],
 "metadata": {
  "kernelspec": {
   "display_name": "Python 3 (ipykernel)",
   "language": "python",
   "name": "python3"
  },
  "language_info": {
   "codemirror_mode": {
    "name": "ipython",
    "version": 3
   },
   "file_extension": ".py",
   "mimetype": "text/x-python",
   "name": "python",
   "nbconvert_exporter": "python",
   "pygments_lexer": "ipython3",
   "version": "3.12.7"
  }
 },
 "nbformat": 4,
 "nbformat_minor": 5
}
