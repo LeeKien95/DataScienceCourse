{
 "cells": [
  {
   "cell_type": "code",
   "execution_count": 2,
   "id": "e631cb2e-d38b-4472-89ad-d760deb46c01",
   "metadata": {},
   "outputs": [],
   "source": [
    "import pandas as pd\n",
    "import numpy as np"
   ]
  },
  {
   "cell_type": "code",
   "execution_count": 86,
   "id": "8cd93234-e556-412e-92c6-2f5d6119d2ff",
   "metadata": {},
   "outputs": [
    {
     "data": {
      "text/plain": [
       "<bound method DataFrame.info of                        vhost        clientip  \\\n",
       "0             www.rushout.jp   210.160.220.3   \n",
       "1             www.rushout.jp   210.160.220.3   \n",
       "2                skynet-c.jp  106.129.38.198   \n",
       "3             www.rushout.jp   210.160.220.3   \n",
       "4             www.rushout.jp   210.160.220.3   \n",
       "...                      ...             ...   \n",
       "51023           threewood.jp   59.137.222.62   \n",
       "51024  www.g-stage-select.jp  122.250.200.66   \n",
       "51025     www.kenjyulabo.com   34.236.41.241   \n",
       "51026     www.kenjyulabo.com   3.221.222.168   \n",
       "51027     www.kenjyulabo.com    44.196.118.6   \n",
       "\n",
       "                                                 request  \\\n",
       "0               /SHOP/list.php?Search=%E5%8F%A4%E7%9D%80   \n",
       "1                                         /SHOP/list.php   \n",
       "2                                        /smp/index.html   \n",
       "3      /SHOP/list.php?Search=%E3%83%AA%E3%83%BC%E3%83...   \n",
       "4      /SHOP/list.php?Search=%E3%82%B8%E3%83%BC%E3%83...   \n",
       "...                                                  ...   \n",
       "51023           /smp/css/sps_common_css_1.css?1733621998   \n",
       "51024           /smp/css/sps_common_css_1.css?1733645754   \n",
       "51025     /smp/?MKAGOID=e12392b627b4e29bf168f292f408ed61   \n",
       "51026     /smp/?MKAGOID=2da8e8ddf6158ab74dda14eeeb8a285c   \n",
       "51027  /smp/list.php?MKAGOID=1944b87e2d82a0c2cb6f9327...   \n",
       "\n",
       "                                                   agent  error_num  \n",
       "0                                                      -         87  \n",
       "1                                                      -         57  \n",
       "2      Mozilla/5.0 (Linux; Android 10; K) AppleWebKit...         17  \n",
       "3                                                      -         13  \n",
       "4                                                      -         10  \n",
       "...                                                  ...        ...  \n",
       "51023  Mozilla/5.0 (iPhone; CPU iPhone OS 18_0 like M...          1  \n",
       "51024  Mozilla/5.0 (iPhone; CPU iPhone OS 18_1_1 like...          1  \n",
       "51025  Mozilla/5.0 (Macintosh; Intel Mac OS X 10_10_1...          1  \n",
       "51026  Mozilla/5.0 (Macintosh; Intel Mac OS X 10_10_1...          1  \n",
       "51027  Mozilla/5.0 (Macintosh; Intel Mac OS X 10_10_1...          1  \n",
       "\n",
       "[51028 rows x 5 columns]>"
      ]
     },
     "execution_count": 86,
     "metadata": {},
     "output_type": "execute_result"
    }
   ],
   "source": [
    "df = pd.read_csv('proxy_20241209.csv')\n",
    "df.info"
   ]
  },
  {
   "cell_type": "code",
   "execution_count": 87,
   "id": "6eebfb8d-bc22-490f-b207-04bb23f146cd",
   "metadata": {},
   "outputs": [
    {
     "data": {
      "text/plain": [
       "vhost\n",
       "threewood.jp                          137\n",
       "www.yochika.com                       139\n",
       "www.kidbox.co.jp                      144\n",
       "www.keihin-park.com                   149\n",
       "www.memoriarubutsudan.com             150\n",
       "www.kingsroad.jp                      150\n",
       "www.roastbeef-kamakurayama.co.jp      156\n",
       "www.phangan.jp                        180\n",
       "junyu-fuku.com                        194\n",
       "www.omochabako-webstore.jp            200\n",
       "www.tocco-closet.co.jp                229\n",
       "www.nostalgia-online.jp               243\n",
       "www.kingfisher.co.jp                  262\n",
       "www.dogdept.jp                        313\n",
       "www.rasin.co.jp                       375\n",
       "ringtons-japan.jp                     401\n",
       "www.rushout.jp                        946\n",
       "www.waiper.co.jp                     1139\n",
       "skynet-c.jp                          2209\n",
       "www.kenjyulabo.com                  27833\n",
       "Name: clientip, dtype: int64"
      ]
     },
     "execution_count": 87,
     "metadata": {},
     "output_type": "execute_result"
    }
   ],
   "source": [
    "df.groupby('vhost').count()['clientip'].sort_values().tail(20)"
   ]
  },
  {
   "cell_type": "code",
   "execution_count": 89,
   "id": "0fce54f9-ac58-4ee1-b9c2-6ce5b1afe80f",
   "metadata": {},
   "outputs": [
    {
     "data": {
      "text/plain": [
       "vhost\n",
       "threewood.jp                          137\n",
       "www.yochika.com                       140\n",
       "www.keihin-park.com                   149\n",
       "www.kingsroad.jp                      150\n",
       "www.kidbox.co.jp                      152\n",
       "www.roastbeef-kamakurayama.co.jp      156\n",
       "www.memoriarubutsudan.com             160\n",
       "www.phangan.jp                        181\n",
       "junyu-fuku.com                        194\n",
       "www.omochabako-webstore.jp            200\n",
       "www.tocco-closet.co.jp                229\n",
       "www.nostalgia-online.jp               243\n",
       "www.kingfisher.co.jp                  269\n",
       "www.dogdept.jp                        315\n",
       "www.rasin.co.jp                       375\n",
       "ringtons-japan.jp                     401\n",
       "www.waiper.co.jp                     1183\n",
       "www.rushout.jp                       1310\n",
       "skynet-c.jp                          2245\n",
       "www.kenjyulabo.com                  27833\n",
       "Name: error_num, dtype: int64"
      ]
     },
     "execution_count": 89,
     "metadata": {},
     "output_type": "execute_result"
    }
   ],
   "source": [
    "df.groupby('vhost').sum()['error_num'].sort_values().tail(20)"
   ]
  },
  {
   "cell_type": "code",
   "execution_count": 95,
   "id": "177e0a98-4a2e-4cbc-9512-7e9be9d9a875",
   "metadata": {},
   "outputs": [
    {
     "data": {
      "text/html": [
       "<div>\n",
       "<style scoped>\n",
       "    .dataframe tbody tr th:only-of-type {\n",
       "        vertical-align: middle;\n",
       "    }\n",
       "\n",
       "    .dataframe tbody tr th {\n",
       "        vertical-align: top;\n",
       "    }\n",
       "\n",
       "    .dataframe thead th {\n",
       "        text-align: right;\n",
       "    }\n",
       "</style>\n",
       "<table border=\"1\" class=\"dataframe\">\n",
       "  <thead>\n",
       "    <tr style=\"text-align: right;\">\n",
       "      <th></th>\n",
       "      <th>vhost</th>\n",
       "      <th>clientip</th>\n",
       "      <th>request</th>\n",
       "      <th>agent</th>\n",
       "      <th>error_num</th>\n",
       "    </tr>\n",
       "  </thead>\n",
       "  <tbody>\n",
       "    <tr>\n",
       "      <th>274</th>\n",
       "      <td>www.kenjyulabo.com</td>\n",
       "      <td>54.85.126.86</td>\n",
       "      <td>/smp/?MKAGOID=b578e980d1c92ab4e2e6320cb9b4cb22</td>\n",
       "      <td>Mozilla/5.0 (Macintosh; Intel Mac OS X 10_10_1...</td>\n",
       "      <td>1</td>\n",
       "    </tr>\n",
       "    <tr>\n",
       "      <th>276</th>\n",
       "      <td>www.kenjyulabo.com</td>\n",
       "      <td>3.225.45.252</td>\n",
       "      <td>/smp/?MKAGOID=959c4cc50c851992191ff737e2e812ca</td>\n",
       "      <td>Mozilla/5.0 (Macintosh; Intel Mac OS X 10_10_1...</td>\n",
       "      <td>1</td>\n",
       "    </tr>\n",
       "    <tr>\n",
       "      <th>280</th>\n",
       "      <td>www.kenjyulabo.com</td>\n",
       "      <td>52.7.33.248</td>\n",
       "      <td>/smp/list.php?MKAGOID=30d9fdfc9a3a817d3fbda0f4...</td>\n",
       "      <td>Mozilla/5.0 (Macintosh; Intel Mac OS X 10_10_1...</td>\n",
       "      <td>1</td>\n",
       "    </tr>\n",
       "    <tr>\n",
       "      <th>282</th>\n",
       "      <td>www.kenjyulabo.com</td>\n",
       "      <td>3.219.81.66</td>\n",
       "      <td>/smp/?MKAGOID=77662e5250c240080348aff8821c6471</td>\n",
       "      <td>Mozilla/5.0 (Macintosh; Intel Mac OS X 10_10_1...</td>\n",
       "      <td>1</td>\n",
       "    </tr>\n",
       "    <tr>\n",
       "      <th>283</th>\n",
       "      <td>www.kenjyulabo.com</td>\n",
       "      <td>23.22.59.87</td>\n",
       "      <td>/smp/list.php?MKAGOID=25ed69315596c3b28e3c1a5c...</td>\n",
       "      <td>Mozilla/5.0 (Macintosh; Intel Mac OS X 10_10_1...</td>\n",
       "      <td>1</td>\n",
       "    </tr>\n",
       "    <tr>\n",
       "      <th>...</th>\n",
       "      <td>...</td>\n",
       "      <td>...</td>\n",
       "      <td>...</td>\n",
       "      <td>...</td>\n",
       "      <td>...</td>\n",
       "    </tr>\n",
       "    <tr>\n",
       "      <th>51020</th>\n",
       "      <td>www.kenjyulabo.com</td>\n",
       "      <td>54.235.158.162</td>\n",
       "      <td>/smp/mailmag.php?MKAGOID=2e816e5a8721844c34edf...</td>\n",
       "      <td>Mozilla/5.0 (Macintosh; Intel Mac OS X 10_10_1...</td>\n",
       "      <td>1</td>\n",
       "    </tr>\n",
       "    <tr>\n",
       "      <th>51021</th>\n",
       "      <td>www.kenjyulabo.com</td>\n",
       "      <td>3.215.221.125</td>\n",
       "      <td>/smp/?MKAGOID=19d77145bb2bd0a8222407071a3cff1c</td>\n",
       "      <td>Mozilla/5.0 (Macintosh; Intel Mac OS X 10_10_1...</td>\n",
       "      <td>1</td>\n",
       "    </tr>\n",
       "    <tr>\n",
       "      <th>51025</th>\n",
       "      <td>www.kenjyulabo.com</td>\n",
       "      <td>34.236.41.241</td>\n",
       "      <td>/smp/?MKAGOID=e12392b627b4e29bf168f292f408ed61</td>\n",
       "      <td>Mozilla/5.0 (Macintosh; Intel Mac OS X 10_10_1...</td>\n",
       "      <td>1</td>\n",
       "    </tr>\n",
       "    <tr>\n",
       "      <th>51026</th>\n",
       "      <td>www.kenjyulabo.com</td>\n",
       "      <td>3.221.222.168</td>\n",
       "      <td>/smp/?MKAGOID=2da8e8ddf6158ab74dda14eeeb8a285c</td>\n",
       "      <td>Mozilla/5.0 (Macintosh; Intel Mac OS X 10_10_1...</td>\n",
       "      <td>1</td>\n",
       "    </tr>\n",
       "    <tr>\n",
       "      <th>51027</th>\n",
       "      <td>www.kenjyulabo.com</td>\n",
       "      <td>44.196.118.6</td>\n",
       "      <td>/smp/list.php?MKAGOID=1944b87e2d82a0c2cb6f9327...</td>\n",
       "      <td>Mozilla/5.0 (Macintosh; Intel Mac OS X 10_10_1...</td>\n",
       "      <td>1</td>\n",
       "    </tr>\n",
       "  </tbody>\n",
       "</table>\n",
       "<p>27833 rows × 5 columns</p>\n",
       "</div>"
      ],
      "text/plain": [
       "                    vhost        clientip  \\\n",
       "274    www.kenjyulabo.com    54.85.126.86   \n",
       "276    www.kenjyulabo.com    3.225.45.252   \n",
       "280    www.kenjyulabo.com     52.7.33.248   \n",
       "282    www.kenjyulabo.com     3.219.81.66   \n",
       "283    www.kenjyulabo.com     23.22.59.87   \n",
       "...                   ...             ...   \n",
       "51020  www.kenjyulabo.com  54.235.158.162   \n",
       "51021  www.kenjyulabo.com   3.215.221.125   \n",
       "51025  www.kenjyulabo.com   34.236.41.241   \n",
       "51026  www.kenjyulabo.com   3.221.222.168   \n",
       "51027  www.kenjyulabo.com    44.196.118.6   \n",
       "\n",
       "                                                 request  \\\n",
       "274       /smp/?MKAGOID=b578e980d1c92ab4e2e6320cb9b4cb22   \n",
       "276       /smp/?MKAGOID=959c4cc50c851992191ff737e2e812ca   \n",
       "280    /smp/list.php?MKAGOID=30d9fdfc9a3a817d3fbda0f4...   \n",
       "282       /smp/?MKAGOID=77662e5250c240080348aff8821c6471   \n",
       "283    /smp/list.php?MKAGOID=25ed69315596c3b28e3c1a5c...   \n",
       "...                                                  ...   \n",
       "51020  /smp/mailmag.php?MKAGOID=2e816e5a8721844c34edf...   \n",
       "51021     /smp/?MKAGOID=19d77145bb2bd0a8222407071a3cff1c   \n",
       "51025     /smp/?MKAGOID=e12392b627b4e29bf168f292f408ed61   \n",
       "51026     /smp/?MKAGOID=2da8e8ddf6158ab74dda14eeeb8a285c   \n",
       "51027  /smp/list.php?MKAGOID=1944b87e2d82a0c2cb6f9327...   \n",
       "\n",
       "                                                   agent  error_num  \n",
       "274    Mozilla/5.0 (Macintosh; Intel Mac OS X 10_10_1...          1  \n",
       "276    Mozilla/5.0 (Macintosh; Intel Mac OS X 10_10_1...          1  \n",
       "280    Mozilla/5.0 (Macintosh; Intel Mac OS X 10_10_1...          1  \n",
       "282    Mozilla/5.0 (Macintosh; Intel Mac OS X 10_10_1...          1  \n",
       "283    Mozilla/5.0 (Macintosh; Intel Mac OS X 10_10_1...          1  \n",
       "...                                                  ...        ...  \n",
       "51020  Mozilla/5.0 (Macintosh; Intel Mac OS X 10_10_1...          1  \n",
       "51021  Mozilla/5.0 (Macintosh; Intel Mac OS X 10_10_1...          1  \n",
       "51025  Mozilla/5.0 (Macintosh; Intel Mac OS X 10_10_1...          1  \n",
       "51026  Mozilla/5.0 (Macintosh; Intel Mac OS X 10_10_1...          1  \n",
       "51027  Mozilla/5.0 (Macintosh; Intel Mac OS X 10_10_1...          1  \n",
       "\n",
       "[27833 rows x 5 columns]"
      ]
     },
     "execution_count": 95,
     "metadata": {},
     "output_type": "execute_result"
    }
   ],
   "source": [
    "df[(df['vhost']=='www.kenjyulabo.com')].groupby(\"request\").head()"
   ]
  },
  {
   "cell_type": "code",
   "execution_count": 91,
   "id": "6055ab0b-35c3-4260-9ce8-e7024ff47ad4",
   "metadata": {},
   "outputs": [
    {
     "data": {
      "text/plain": [
       "clientip\n",
       "44.218.170.184     24\n",
       "98.80.130.239      24\n",
       "3.223.181.32       27\n",
       "34.233.219.155     28\n",
       "52.2.58.41         33\n",
       "                 ... \n",
       "34.203.111.15      94\n",
       "52.3.104.214       94\n",
       "52.203.152.231     97\n",
       "98.83.94.113       98\n",
       "52.44.174.136     103\n",
       "Name: error_num, Length: 432, dtype: int64"
      ]
     },
     "execution_count": 91,
     "metadata": {},
     "output_type": "execute_result"
    }
   ],
   "source": [
    "df[(df['vhost']=='www.kenjyulabo.com')].groupby(\"clientip\").sum()['error_num'].sort_values()"
   ]
  },
  {
   "cell_type": "code",
   "execution_count": 93,
   "id": "9267e3f1-38ec-41ff-905f-6f69e0cab815",
   "metadata": {},
   "outputs": [
    {
     "data": {
      "text/plain": [
       "27833"
      ]
     },
     "execution_count": 93,
     "metadata": {},
     "output_type": "execute_result"
    }
   ],
   "source": [
    "df[df['agent'].str.contains(\"Amazonbot\") & (df['vhost']=='www.kenjyulabo.com')]['error_num'].sum()"
   ]
  },
  {
   "cell_type": "code",
   "execution_count": 94,
   "id": "bb966714-9c51-406b-9c5e-279ba4e9d7ee",
   "metadata": {},
   "outputs": [
    {
     "data": {
      "text/plain": [
       "clientip\n",
       "98.80.130.239      24\n",
       "44.218.170.184     24\n",
       "3.223.181.32       27\n",
       "34.233.219.155     29\n",
       "52.2.58.41         33\n",
       "                 ... \n",
       "34.203.111.15      94\n",
       "52.3.104.214       95\n",
       "52.203.152.231     97\n",
       "98.83.94.113       98\n",
       "52.44.174.136     104\n",
       "Name: error_num, Length: 432, dtype: int64"
      ]
     },
     "execution_count": 94,
     "metadata": {},
     "output_type": "execute_result"
    }
   ],
   "source": [
    "df[df['agent'].str.contains(\"Amazonbot\")].groupby(\"clientip\").sum()['error_num'].sort_values()"
   ]
  }
 ],
 "metadata": {
  "kernelspec": {
   "display_name": "Python 3 (ipykernel)",
   "language": "python",
   "name": "python3"
  },
  "language_info": {
   "codemirror_mode": {
    "name": "ipython",
    "version": 3
   },
   "file_extension": ".py",
   "mimetype": "text/x-python",
   "name": "python",
   "nbconvert_exporter": "python",
   "pygments_lexer": "ipython3",
   "version": "3.12.7"
  }
 },
 "nbformat": 4,
 "nbformat_minor": 5
}
