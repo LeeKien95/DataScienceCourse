{
 "cells": [
  {
   "cell_type": "markdown",
   "id": "05c4e271-36f8-4e9c-a134-9977d547eecf",
   "metadata": {},
   "source": [
    "# Data Science Tools and Ecosystem"
   ]
  },
  {
   "cell_type": "markdown",
   "id": "52976061-8833-46c7-a543-d10e9af31c6b",
   "metadata": {},
   "source": [
    "In this notebook, Data Science Tools and Ecosystem are summarized."
   ]
  },
  {
   "cell_type": "markdown",
   "id": "fa4392a8-8a32-4ac6-9728-36727f7a640a",
   "metadata": {},
   "source": [
    "## Author\n",
    "Le Kien"
   ]
  },
  {
   "cell_type": "markdown",
   "id": "c4c687dd-093d-4cc7-b952-5172f1305995",
   "metadata": {},
   "source": [
    "**Objectives:**\n",
    "- popular languages\n",
    "- commonly used libraries\n",
    "- Data Science Tools\n",
    "- examples of evaluating arithmetic expressions"
   ]
  },
  {
   "cell_type": "markdown",
   "id": "4877d727-6dfa-44f4-9830-e0175990328c",
   "metadata": {},
   "source": [
    "Some of the popular languages that Data Scientists use are:\n",
    "\n",
    "1. Python\n",
    "2. R\n",
    "3. SQL\n",
    "4. Scala\n",
    "5. Java"
   ]
  },
  {
   "cell_type": "markdown",
   "id": "99f80875-60ca-47d8-8217-01b3187b6bc4",
   "metadata": {},
   "source": [
    "Some of the commonly used libraries used by Data Scientists include:\n",
    "\n",
    "1. Pandas\n",
    "2. Numpy\n",
    "3. Scikit-Learn\n",
    "4. PyTorch\n",
    "5. TensorFlow\n",
    "6. Mathplotlib\n",
    "7. Seaborn\n",
    "8. Plotly"
   ]
  },
  {
   "cell_type": "markdown",
   "id": "9df27c58-141a-4606-8d42-95ba00f1d5c5",
   "metadata": {},
   "source": [
    "| Data Science Tools|\n",
    "| --- | \n",
    "| Jupyter Notebook |\n",
    "| RStudio |\n",
    "| Anaconda |"
   ]
  },
  {
   "cell_type": "markdown",
   "id": "1c3db75e-bbf9-47d7-8de3-4f1af6e56d8a",
   "metadata": {},
   "source": [
    "### Below are a few examples of evaluating arithmetic expressions in Python\n"
   ]
  },
  {
   "cell_type": "code",
   "execution_count": 7,
   "id": "8ec04ac6-b894-4280-95e5-b2a4ee6b73cc",
   "metadata": {},
   "outputs": [
    {
     "data": {
      "text/plain": [
       "17"
      ]
     },
     "execution_count": 7,
     "metadata": {},
     "output_type": "execute_result"
    }
   ],
   "source": [
    "# This a simple arithmetic expression to mutiply then add integers\n",
    "(3*4)+5"
   ]
  },
  {
   "cell_type": "code",
   "execution_count": 8,
   "id": "4a2c105a-e3fe-442a-84a2-c586a6056405",
   "metadata": {},
   "outputs": [
    {
     "data": {
      "text/plain": [
       "3.3333333333333335"
      ]
     },
     "execution_count": 8,
     "metadata": {},
     "output_type": "execute_result"
    }
   ],
   "source": [
    "# This will convert 200 minutes to hours by diving by 60\n",
    "200/60"
   ]
  }
 ],
 "metadata": {
  "kernelspec": {
   "display_name": "Python 3 (ipykernel)",
   "language": "python",
   "name": "python3"
  },
  "language_info": {
   "codemirror_mode": {
    "name": "ipython",
    "version": 3
   },
   "file_extension": ".py",
   "mimetype": "text/x-python",
   "name": "python",
   "nbconvert_exporter": "python",
   "pygments_lexer": "ipython3",
   "version": "3.9.18"
  }
 },
 "nbformat": 4,
 "nbformat_minor": 5
}
